{
  "nbformat": 4,
  "nbformat_minor": 0,
  "metadata": {
    "colab": {
      "name": "1D Linear regression.ipynb",
      "provenance": [],
      "collapsed_sections": []
    },
    "kernelspec": {
      "name": "python3",
      "display_name": "Python 3"
    },
    "language_info": {
      "name": "python"
    }
  },
  "cells": [
    {
      "cell_type": "markdown",
      "metadata": {
        "id": "tB5s-HGcdvZ8"
      },
      "source": [
        "Necessary Imports"
      ]
    },
    {
      "cell_type": "code",
      "metadata": {
        "id": "g5iRGE28aWB3"
      },
      "source": [
        "import numpy as np\n",
        "import matplotlib.pyplot as plt\n",
        "import pandas as pd"
      ],
      "execution_count": 2,
      "outputs": []
    },
    {
      "cell_type": "markdown",
      "metadata": {
        "id": "OBo8yskFdxkj"
      },
      "source": [
        "Gathering the Data"
      ]
    },
    {
      "cell_type": "code",
      "metadata": {
        "id": "o49mCtoXa-Ds"
      },
      "source": [
        "dataset=pd.read_csv('https://raw.githubusercontent.com/FutrCamp/Machine-Learning/main/Supervised%20Machine%20Learning/Datasets/data_1d.csv',header=None)"
      ],
      "execution_count": 3,
      "outputs": []
    },
    {
      "cell_type": "code",
      "metadata": {
        "id": "k9hI8wnJbPMD",
        "colab": {
          "base_uri": "https://localhost:8080/",
          "height": 203
        },
        "outputId": "8dd07295-1c00-4e8e-fc1b-59466f4eb08e"
      },
      "source": [
        "dataset.head()"
      ],
      "execution_count": 4,
      "outputs": [
        {
          "output_type": "execute_result",
          "data": {
            "text/html": [
              "<div>\n",
              "<style scoped>\n",
              "    .dataframe tbody tr th:only-of-type {\n",
              "        vertical-align: middle;\n",
              "    }\n",
              "\n",
              "    .dataframe tbody tr th {\n",
              "        vertical-align: top;\n",
              "    }\n",
              "\n",
              "    .dataframe thead th {\n",
              "        text-align: right;\n",
              "    }\n",
              "</style>\n",
              "<table border=\"1\" class=\"dataframe\">\n",
              "  <thead>\n",
              "    <tr style=\"text-align: right;\">\n",
              "      <th></th>\n",
              "      <th>0</th>\n",
              "      <th>1</th>\n",
              "    </tr>\n",
              "  </thead>\n",
              "  <tbody>\n",
              "    <tr>\n",
              "      <th>0</th>\n",
              "      <td>95.724162</td>\n",
              "      <td>197.179636</td>\n",
              "    </tr>\n",
              "    <tr>\n",
              "      <th>1</th>\n",
              "      <td>35.757619</td>\n",
              "      <td>67.590670</td>\n",
              "    </tr>\n",
              "    <tr>\n",
              "      <th>2</th>\n",
              "      <td>28.816847</td>\n",
              "      <td>60.854133</td>\n",
              "    </tr>\n",
              "    <tr>\n",
              "      <th>3</th>\n",
              "      <td>99.958481</td>\n",
              "      <td>196.907397</td>\n",
              "    </tr>\n",
              "    <tr>\n",
              "      <th>4</th>\n",
              "      <td>66.809748</td>\n",
              "      <td>125.311129</td>\n",
              "    </tr>\n",
              "  </tbody>\n",
              "</table>\n",
              "</div>"
            ],
            "text/plain": [
              "           0           1\n",
              "0  95.724162  197.179636\n",
              "1  35.757619   67.590670\n",
              "2  28.816847   60.854133\n",
              "3  99.958481  196.907397\n",
              "4  66.809748  125.311129"
            ]
          },
          "metadata": {
            "tags": []
          },
          "execution_count": 4
        }
      ]
    },
    {
      "cell_type": "markdown",
      "metadata": {
        "id": "wDHcEXMtd0Jy"
      },
      "source": [
        "Splitting the data into X & Y "
      ]
    },
    {
      "cell_type": "code",
      "metadata": {
        "id": "aqRi0kXcdP0z"
      },
      "source": [
        "X= np.array(dataset[0])\n",
        "Y= np.array(dataset[1])"
      ],
      "execution_count": 18,
      "outputs": []
    },
    {
      "cell_type": "code",
      "metadata": {
        "colab": {
          "base_uri": "https://localhost:8080/"
        },
        "id": "lFUGMIw0qfjV",
        "outputId": "5541c952-75f7-472c-a174-99f91d54a317"
      },
      "source": [
        "print(X.shape)"
      ],
      "execution_count": 19,
      "outputs": [
        {
          "output_type": "stream",
          "text": [
            "(100,)\n"
          ],
          "name": "stdout"
        }
      ]
    },
    {
      "cell_type": "markdown",
      "metadata": {
        "id": "mcKzBHMtd8EK"
      },
      "source": [
        "Visualizing the Data"
      ]
    },
    {
      "cell_type": "code",
      "metadata": {
        "colab": {
          "base_uri": "https://localhost:8080/",
          "height": 282
        },
        "id": "0KrXA6iLdktE",
        "outputId": "506f7f2a-e323-47b9-9bd5-0073938da1f0"
      },
      "source": [
        "plt.scatter(X,Y)"
      ],
      "execution_count": 6,
      "outputs": [
        {
          "output_type": "execute_result",
          "data": {
            "text/plain": [
              "<matplotlib.collections.PathCollection at 0x7f5f24a26250>"
            ]
          },
          "metadata": {
            "tags": []
          },
          "execution_count": 6
        },
        {
          "output_type": "display_data",
          "data": {
            "image/png": "[encoded data removed]",
            "text/plain": [
              "<Figure size 432x288 with 1 Axes>"
            ]
          },
          "metadata": {
            "tags": [],
            "needs_background": "light"
          }
        }
      ]
    },
    {
      "cell_type": "markdown",
      "metadata": {
        "id": "T-J-TEwxfPc6"
      },
      "source": [
        "applying the equations used to calculate a & b"
      ]
    },
    {
      "cell_type": "code",
      "metadata": {
        "id": "Eu3810wqdmoi"
      },
      "source": [
        "denominator = X.dot(X) - X.mean()*X.sum()\n",
        "a = (X.dot(Y) - Y.mean()*X.sum())/denominator\n",
        "b = (Y.mean()*X.dot(X) - X.mean()*X.dot(Y))/denominator"
      ],
      "execution_count": null,
      "outputs": []
    },
    {
      "cell_type": "markdown",
      "metadata": {
        "id": "mcsQ4oEIg_-x"
      },
      "source": [
        "Calculating Predicted Y / Yhat"
      ]
    },
    {
      "cell_type": "code",
      "metadata": {
        "id": "WwlSdBBAgwfi"
      },
      "source": [
        "Yhat = a*X + b"
      ],
      "execution_count": 8,
      "outputs": []
    },
    {
      "cell_type": "markdown",
      "metadata": {
        "id": "A3xgrPEnhNRI"
      },
      "source": [
        "Visualizing the line\n"
      ]
    },
    {
      "cell_type": "code",
      "metadata": {
        "colab": {
          "base_uri": "https://localhost:8080/",
          "height": 282
        },
        "id": "BhYEI_6ehPmw",
        "outputId": "bef255f8-3ea2-4edc-b539-98cc3b477e8f"
      },
      "source": [
        "plt.scatter(X,Y)\n",
        "plt.plot(X,Yhat, color='red')"
      ],
      "execution_count": 9,
      "outputs": [
        {
          "output_type": "execute_result",
          "data": {
            "text/plain": [
              "[<matplotlib.lines.Line2D at 0x7f5f244e9210>]"
            ]
          },
          "metadata": {
            "tags": []
          },
          "execution_count": 9
        },
        {
          "output_type": "display_data",
          "data": {
            "image/png": "[encoded data removed]",
            "text/plain": [
              "<Figure size 432x288 with 1 Axes>"
            ]
          },
          "metadata": {
            "tags": [],
            "needs_background": "light"
          }
        }
      ]
    },
    {
      "cell_type": "code",
      "metadata": {
        "colab": {
          "base_uri": "https://localhost:8080/"
        },
        "id": "zdWxc3jy8vyb",
        "outputId": "527dbda4-73c8-49a2-a25c-57029f2c15c0"
      },
      "source": [
        "print(a*96 +b)"
      ],
      "execution_count": 10,
      "outputs": [
        {
          "output_type": "stream",
          "text": [
            "192.23519215418156\n"
          ],
          "name": "stdout"
        }
      ]
    },
    {
      "cell_type": "markdown",
      "metadata": {
        "id": "YTZWgVvLl2lY"
      },
      "source": [
        "R-squared error"
      ]
    },
    {
      "cell_type": "code",
      "metadata": {
        "colab": {
          "base_uri": "https://localhost:8080/"
        },
        "id": "lrg-GggOhUJx",
        "outputId": "d0a046be-65e7-4250-af7d-936a39504bbf"
      },
      "source": [
        "d1 =  Y - Yhat\n",
        "d2= Y - Y.mean()\n",
        "\n",
        "R2 = 1 - d1.dot(d1)/ d2.dot(d2)\n",
        "print(\"So the R-squared error is {}\".format(R2))"
      ],
      "execution_count": 11,
      "outputs": [
        {
          "output_type": "stream",
          "text": [
            "So the R-squared error is 0.9911838202977805\n"
          ],
          "name": "stdout"
        }
      ]
    },
    {
      "cell_type": "markdown",
      "metadata": {
        "id": "vkPInn3SmzyZ"
      },
      "source": [
        "Using Scikit Learn"
      ]
    },
    {
      "cell_type": "markdown",
      "metadata": {
        "id": "fKia3yu7pSmq"
      },
      "source": [
        "import"
      ]
    },
    {
      "cell_type": "code",
      "metadata": {
        "id": "Fkko8HclpSJs"
      },
      "source": [
        "from sklearn.linear_model import LinearRegression"
      ],
      "execution_count": 20,
      "outputs": []
    },
    {
      "cell_type": "code",
      "metadata": {
        "id": "XfUqbaP4oG0S"
      },
      "source": [
        "X = dataset.iloc[:,0].values.reshape(-1,1)\n",
        "Y = dataset.iloc[:,1].values.reshape(-1,1)"
      ],
      "execution_count": 21,
      "outputs": []
    },
    {
      "cell_type": "code",
      "metadata": {
        "colab": {
          "base_uri": "https://localhost:8080/"
        },
        "id": "4BPh9ho2qkwF",
        "outputId": "d31eb2d2-5239-4b8c-c3bb-6f1458775adf"
      },
      "source": [
        "print(X.shape)"
      ],
      "execution_count": 22,
      "outputs": [
        {
          "output_type": "stream",
          "text": [
            "(100, 1)\n"
          ],
          "name": "stdout"
        }
      ]
    },
    {
      "cell_type": "code",
      "metadata": {
        "id": "vv2CPG15pHqC"
      },
      "source": [
        "lr = LinearRegression()\n",
        "lr.fit(X,Y)\n",
        "Yhat = lr.predict(X)"
      ],
      "execution_count": 14,
      "outputs": []
    },
    {
      "cell_type": "markdown",
      "metadata": {
        "id": "pDa8H-jupqoN"
      },
      "source": [
        "Visualizing"
      ]
    },
    {
      "cell_type": "code",
      "metadata": {
        "colab": {
          "base_uri": "https://localhost:8080/",
          "height": 265
        },
        "id": "G_SY_qClpbu6",
        "outputId": "506efc22-84d6-4ef3-8c96-2a3e06d6335f"
      },
      "source": [
        "plt.scatter(X,Y)\n",
        "plt.plot(X,Yhat,color='red');"
      ],
      "execution_count": 15,
      "outputs": [
        {
          "output_type": "display_data",
          "data": {
            "image/png": "[encoded data removed]",
            "text/plain": [
              "<Figure size 432x288 with 1 Axes>"
            ]
          },
          "metadata": {
            "tags": [],
            "needs_background": "light"
          }
        }
      ]
    },
    {
      "cell_type": "markdown",
      "metadata": {
        "id": "OEYyQpyRqUwj"
      },
      "source": [
        "**Note**\n",
        "- -1 in reshape function is used when you dont know or want to explicitly tell the dimension of that axis.\n",
        "- E.g,\n",
        "If you have an array of shape (2,4) then reshaping it with (-1, 1), then the array will get reshaped in such a way that the resulting array has only 1 column and this is only possible by having 8 rows, hence, (8,1)."
      ]
    },
    {
      "cell_type": "code",
      "metadata": {
        "colab": {
          "base_uri": "https://localhost:8080/"
        },
        "id": "zqzyblkz9zla",
        "outputId": "b4d20f60-02b8-4d49-bc76-9a879a580655"
      },
      "source": [
        "r_sq = lr.score(X, Y)\n",
        ">>> print('coefficient of determination:', r_sq)"
      ],
      "execution_count": 16,
      "outputs": [
        {
          "output_type": "stream",
          "text": [
            "coefficient of determination: 0.9911838202977805\n"
          ],
          "name": "stdout"
        }
      ]
    },
    {
      "cell_type": "code",
      "metadata": {
        "id": "YJrfDY0d-G_h"
      },
      "source": [
        ""
      ],
      "execution_count": null,
      "outputs": []
    }
  ]
}