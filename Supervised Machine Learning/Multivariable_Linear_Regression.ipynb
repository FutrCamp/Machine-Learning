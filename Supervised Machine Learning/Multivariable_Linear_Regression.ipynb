{
  "nbformat": 4,
  "nbformat_minor": 0,
  "metadata": {
    "colab": {
      "name": "Multivariable Linear Regression.ipynb",
      "provenance": [],
      "collapsed_sections": []
    },
    "kernelspec": {
      "name": "python3",
      "display_name": "Python 3"
    },
    "language_info": {
      "name": "python"
    }
  },
  "cells": [
    {
      "cell_type": "markdown",
      "metadata": {
        "id": "KezKm-fSjrNJ"
      },
      "source": [
        "Necessary Imports"
      ]
    },
    {
      "cell_type": "code",
      "metadata": {
        "id": "yWjdX5UVjqGo"
      },
      "source": [
        "import numpy as np\n",
        "import matplotlib.pyplot as plt\n",
        "import pandas as pd\n",
        "from mpl_toolkits.mplot3d import Axes3D\n",
        "import matplotlib.pyplot as plt"
      ],
      "execution_count": 31,
      "outputs": []
    },
    {
      "cell_type": "markdown",
      "metadata": {
        "id": "v7VhIV_CdOfP"
      },
      "source": [
        " Gathering & Load the Data"
      ]
    },
    {
      "cell_type": "code",
      "metadata": {
        "id": "xOgWjLkVWCdv",
        "colab": {
          "base_uri": "https://localhost:8080/"
        },
        "outputId": "9df7154b-0ecc-4e00-c90a-2480fe0b8a2a"
      },
      "source": [
        "!wget \"https://raw.githubusercontent.com/FutrCamp/Machine-Learning/main/Supervised%20Machine%20Learning/Datasets/data_2d.csv\""
      ],
      "execution_count": 32,
      "outputs": [
        {
          "output_type": "stream",
          "text": [
            "--2021-04-18 15:58:20--  https://raw.githubusercontent.com/FutrCamp/Machine-Learning/main/Supervised%20Machine%20Learning/Datasets/data_2d.csv\n",
            "Resolving raw.githubusercontent.com (raw.githubusercontent.com)... 185.199.108.133, 185.199.109.133, 185.199.110.133, ...\n",
            "Connecting to raw.githubusercontent.com (raw.githubusercontent.com)|185.199.108.133|:443... connected.\n",
            "HTTP request sent, awaiting response... 200 OK\n",
            "Length: 4264 (4.2K) [text/plain]\n",
            "Saving to: ‘data_2d.csv.2’\n",
            "\n",
            "data_2d.csv.2       100%[===================>]   4.16K  --.-KB/s    in 0s      \n",
            "\n",
            "2021-04-18 15:58:21 (47.6 MB/s) - ‘data_2d.csv.2’ saved [4264/4264]\n",
            "\n"
          ],
          "name": "stdout"
        }
      ]
    },
    {
      "cell_type": "code",
      "metadata": {
        "id": "zPMCBQXLUx73"
      },
      "source": [
        "X= []\n",
        "Y= []"
      ],
      "execution_count": 33,
      "outputs": []
    },
    {
      "cell_type": "code",
      "metadata": {
        "id": "xV4OZP5iVNQn"
      },
      "source": [
        "for line in open('/content/data_2d.csv'):\n",
        "  x1,x2,y = line.split(',')\n",
        "  X.append([float(x1),float(x2),1])\n",
        "  Y.append(float(y))"
      ],
      "execution_count": 35,
      "outputs": []
    },
    {
      "cell_type": "code",
      "metadata": {
        "id": "TlOe8Xi_yt29"
      },
      "source": [
        "# turning X & Y into numpy arrays\n",
        "X=np.array(X)\n",
        "Y=np.array(Y)"
      ],
      "execution_count": 36,
      "outputs": []
    },
    {
      "cell_type": "code",
      "metadata": {
        "colab": {
          "base_uri": "https://localhost:8080/"
        },
        "id": "1wC41CoA17A0",
        "outputId": "24aa39ff-88a1-4cfb-eb5f-7a8866289aae"
      },
      "source": [
        "X.shape"
      ],
      "execution_count": 37,
      "outputs": [
        {
          "output_type": "execute_result",
          "data": {
            "text/plain": [
              "(200, 3)"
            ]
          },
          "metadata": {
            "tags": []
          },
          "execution_count": 37
        }
      ]
    },
    {
      "cell_type": "code",
      "metadata": {
        "id": "AZ3lKwMj2Ups",
        "colab": {
          "base_uri": "https://localhost:8080/"
        },
        "outputId": "b1e702a8-947a-486c-83a8-9e629d79b45e"
      },
      "source": [
        "X"
      ],
      "execution_count": 38,
      "outputs": [
        {
          "output_type": "execute_result",
          "data": {
            "text/plain": [
              "array([[17.93020121, 94.52059195,  1.        ],\n",
              "       [97.14469719, 69.59328198,  1.        ],\n",
              "       [81.77590078,  5.7376481 ,  1.        ],\n",
              "       [55.85434242, 70.32590168,  1.        ],\n",
              "       [49.36654999, 75.11404016,  1.        ],\n",
              "       [ 3.19270247, 29.25629886,  1.        ],\n",
              "       [49.20078406, 86.14443851,  1.        ],\n",
              "       [21.8828039 , 46.8415052 ,  1.        ],\n",
              "       [79.50986272, 87.39735554,  1.        ],\n",
              "       [88.1538875 , 65.20564193,  1.        ],\n",
              "       [60.74385434, 99.9576339 ,  1.        ],\n",
              "       [67.41558195, 50.36830961,  1.        ],\n",
              "       [48.31811577, 99.12895314,  1.        ],\n",
              "       [28.82997197, 87.18494885,  1.        ],\n",
              "       [43.85374266, 64.47363908,  1.        ],\n",
              "       [25.31369409, 83.54529426,  1.        ],\n",
              "       [10.80772667, 45.69556859,  1.        ],\n",
              "       [98.36574588, 82.69739353,  1.        ],\n",
              "       [29.14690997, 66.36510676,  1.        ],\n",
              "       [65.1003019 , 33.3538835 ,  1.        ],\n",
              "       [24.64411349, 39.54005274,  1.        ],\n",
              "       [37.55980488,  1.34572784,  1.        ],\n",
              "       [88.16450624, 95.15366257,  1.        ],\n",
              "       [13.83462084, 25.4940482 ,  1.        ],\n",
              "       [64.41084375, 77.25983813,  1.        ],\n",
              "       [68.9259918 , 97.4536008 ,  1.        ],\n",
              "       [39.48844224, 50.85612819,  1.        ],\n",
              "       [52.46317768, 59.77650969,  1.        ],\n",
              "       [48.48478698, 66.97035422,  1.        ],\n",
              "       [ 8.06208781, 98.24260014,  1.        ],\n",
              "       [32.73188771, 18.85353553,  1.        ],\n",
              "       [11.6523788 , 66.26451174,  1.        ],\n",
              "       [13.73035353, 70.47250913,  1.        ],\n",
              "       [ 8.18555177, 41.85198942,  1.        ],\n",
              "       [53.60987615, 94.56012164,  1.        ],\n",
              "       [95.36860989, 47.29550696,  1.        ],\n",
              "       [87.33360921, 93.80393433,  1.        ],\n",
              "       [66.35761109, 81.84755128,  1.        ],\n",
              "       [19.75471753, 65.52330092,  1.        ],\n",
              "       [21.13344045, 47.43718199,  1.        ],\n",
              "       [22.37386481, 25.95562754,  1.        ],\n",
              "       [93.99040405,  0.12789052,  1.        ],\n",
              "       [86.7201981 , 18.41376678,  1.        ],\n",
              "       [98.99837299, 60.23126569,  1.        ],\n",
              "       [ 3.59396564, 96.25221732,  1.        ],\n",
              "       [15.10236337, 92.55690357,  1.        ],\n",
              "       [97.83414077,  2.0239081 ,  1.        ],\n",
              "       [19.93821969, 46.77827346,  1.        ],\n",
              "       [30.37351114, 58.77752516,  1.        ],\n",
              "       [73.29288315, 67.66962776,  1.        ],\n",
              "       [52.23090088, 81.90244825,  1.        ],\n",
              "       [86.42957611, 66.5402276 ,  1.        ],\n",
              "       [93.40080214, 18.07524594,  1.        ],\n",
              "       [13.21346006, 91.48885878,  1.        ],\n",
              "       [ 4.5934627 , 46.33593152,  1.        ],\n",
              "       [15.66929158, 35.543744  ,  1.        ],\n",
              "       [52.95935977, 68.72020961,  1.        ],\n",
              "       [56.81752123, 47.57273192,  1.        ],\n",
              "       [51.13354308, 78.04216746,  1.        ],\n",
              "       [ 7.86216472, 17.72908178,  1.        ],\n",
              "       [54.6986037 , 92.74458414,  1.        ],\n",
              "       [86.39906301, 41.88869459,  1.        ],\n",
              "       [11.94750602, 42.96138674,  1.        ],\n",
              "       [70.35840106, 83.70623451,  1.        ],\n",
              "       [29.02236633, 84.32778308,  1.        ],\n",
              "       [42.75947991, 97.49332608,  1.        ],\n",
              "       [96.21565644, 25.83428258,  1.        ],\n",
              "       [53.22772766, 27.90550857,  1.        ],\n",
              "       [30.36098967,  0.93964422,  1.        ],\n",
              "       [83.27756539, 73.17934857,  1.        ],\n",
              "       [30.18769248,  7.1465386 ,  1.        ],\n",
              "       [11.78841846, 51.69776084,  1.        ],\n",
              "       [18.29242401, 61.97797605,  1.        ],\n",
              "       [96.71266769,  9.02910151,  1.        ],\n",
              "       [31.01273869, 78.28338246,  1.        ],\n",
              "       [11.39726075, 61.72869324,  1.        ],\n",
              "       [17.39255579,  4.24114086,  1.        ],\n",
              "       [72.18269373, 34.53907217,  1.        ],\n",
              "       [73.98002078,  3.71649344,  1.        ],\n",
              "       [94.49305835, 88.41719702,  1.        ],\n",
              "       [84.56282073, 20.24116219,  1.        ],\n",
              "       [51.74247397, 11.00974796,  1.        ],\n",
              "       [53.7485904 , 60.0251023 ,  1.        ],\n",
              "       [85.05083476, 95.73699695,  1.        ],\n",
              "       [46.77725045, 90.20220624,  1.        ],\n",
              "       [49.75843417, 52.83449436,  1.        ],\n",
              "       [24.1192565 , 42.10281078,  1.        ],\n",
              "       [27.20157645, 29.97874929,  1.        ],\n",
              "       [ 7.00959617, 55.87605839,  1.        ],\n",
              "       [97.64694967,  8.14762513,  1.        ],\n",
              "       [ 1.38298251, 84.94408692,  1.        ],\n",
              "       [22.32353035, 27.51507504,  1.        ],\n",
              "       [45.04540623, 93.52040222,  1.        ],\n",
              "       [40.16399147,  0.16169923,  1.        ],\n",
              "       [53.18273979,  8.17031616,  1.        ],\n",
              "       [46.45677916, 82.00017091,  1.        ],\n",
              "       [77.13030069, 95.18875945,  1.        ],\n",
              "       [68.60060757, 72.57118072,  1.        ],\n",
              "       [41.69388712, 69.24112597,  1.        ],\n",
              "       [ 4.1426694 , 52.25472638,  1.        ],\n",
              "       [17.93020121, 94.52059195,  1.        ],\n",
              "       [97.14469719, 69.59328198,  1.        ],\n",
              "       [81.77590078,  5.7376481 ,  1.        ],\n",
              "       [55.85434242, 70.32590168,  1.        ],\n",
              "       [49.36654999, 75.11404016,  1.        ],\n",
              "       [ 3.19270247, 29.25629886,  1.        ],\n",
              "       [49.20078406, 86.14443851,  1.        ],\n",
              "       [21.8828039 , 46.8415052 ,  1.        ],\n",
              "       [79.50986272, 87.39735554,  1.        ],\n",
              "       [88.1538875 , 65.20564193,  1.        ],\n",
              "       [60.74385434, 99.9576339 ,  1.        ],\n",
              "       [67.41558195, 50.36830961,  1.        ],\n",
              "       [48.31811577, 99.12895314,  1.        ],\n",
              "       [28.82997197, 87.18494885,  1.        ],\n",
              "       [43.85374266, 64.47363908,  1.        ],\n",
              "       [25.31369409, 83.54529426,  1.        ],\n",
              "       [10.80772667, 45.69556859,  1.        ],\n",
              "       [98.36574588, 82.69739353,  1.        ],\n",
              "       [29.14690997, 66.36510676,  1.        ],\n",
              "       [65.1003019 , 33.3538835 ,  1.        ],\n",
              "       [24.64411349, 39.54005274,  1.        ],\n",
              "       [37.55980488,  1.34572784,  1.        ],\n",
              "       [88.16450624, 95.15366257,  1.        ],\n",
              "       [13.83462084, 25.4940482 ,  1.        ],\n",
              "       [64.41084375, 77.25983813,  1.        ],\n",
              "       [68.9259918 , 97.4536008 ,  1.        ],\n",
              "       [39.48844224, 50.85612819,  1.        ],\n",
              "       [52.46317768, 59.77650969,  1.        ],\n",
              "       [48.48478698, 66.97035422,  1.        ],\n",
              "       [ 8.06208781, 98.24260014,  1.        ],\n",
              "       [32.73188771, 18.85353553,  1.        ],\n",
              "       [11.6523788 , 66.26451174,  1.        ],\n",
              "       [13.73035353, 70.47250913,  1.        ],\n",
              "       [ 8.18555177, 41.85198942,  1.        ],\n",
              "       [53.60987615, 94.56012164,  1.        ],\n",
              "       [95.36860989, 47.29550696,  1.        ],\n",
              "       [87.33360921, 93.80393433,  1.        ],\n",
              "       [66.35761109, 81.84755128,  1.        ],\n",
              "       [19.75471753, 65.52330092,  1.        ],\n",
              "       [21.13344045, 47.43718199,  1.        ],\n",
              "       [22.37386481, 25.95562754,  1.        ],\n",
              "       [93.99040405,  0.12789052,  1.        ],\n",
              "       [86.7201981 , 18.41376678,  1.        ],\n",
              "       [98.99837299, 60.23126569,  1.        ],\n",
              "       [ 3.59396564, 96.25221732,  1.        ],\n",
              "       [15.10236337, 92.55690357,  1.        ],\n",
              "       [97.83414077,  2.0239081 ,  1.        ],\n",
              "       [19.93821969, 46.77827346,  1.        ],\n",
              "       [30.37351114, 58.77752516,  1.        ],\n",
              "       [73.29288315, 67.66962776,  1.        ],\n",
              "       [52.23090088, 81.90244825,  1.        ],\n",
              "       [86.42957611, 66.5402276 ,  1.        ],\n",
              "       [93.40080214, 18.07524594,  1.        ],\n",
              "       [13.21346006, 91.48885878,  1.        ],\n",
              "       [ 4.5934627 , 46.33593152,  1.        ],\n",
              "       [15.66929158, 35.543744  ,  1.        ],\n",
              "       [52.95935977, 68.72020961,  1.        ],\n",
              "       [56.81752123, 47.57273192,  1.        ],\n",
              "       [51.13354308, 78.04216746,  1.        ],\n",
              "       [ 7.86216472, 17.72908178,  1.        ],\n",
              "       [54.6986037 , 92.74458414,  1.        ],\n",
              "       [86.39906301, 41.88869459,  1.        ],\n",
              "       [11.94750602, 42.96138674,  1.        ],\n",
              "       [70.35840106, 83.70623451,  1.        ],\n",
              "       [29.02236633, 84.32778308,  1.        ],\n",
              "       [42.75947991, 97.49332608,  1.        ],\n",
              "       [96.21565644, 25.83428258,  1.        ],\n",
              "       [53.22772766, 27.90550857,  1.        ],\n",
              "       [30.36098967,  0.93964422,  1.        ],\n",
              "       [83.27756539, 73.17934857,  1.        ],\n",
              "       [30.18769248,  7.1465386 ,  1.        ],\n",
              "       [11.78841846, 51.69776084,  1.        ],\n",
              "       [18.29242401, 61.97797605,  1.        ],\n",
              "       [96.71266769,  9.02910151,  1.        ],\n",
              "       [31.01273869, 78.28338246,  1.        ],\n",
              "       [11.39726075, 61.72869324,  1.        ],\n",
              "       [17.39255579,  4.24114086,  1.        ],\n",
              "       [72.18269373, 34.53907217,  1.        ],\n",
              "       [73.98002078,  3.71649344,  1.        ],\n",
              "       [94.49305835, 88.41719702,  1.        ],\n",
              "       [84.56282073, 20.24116219,  1.        ],\n",
              "       [51.74247397, 11.00974796,  1.        ],\n",
              "       [53.7485904 , 60.0251023 ,  1.        ],\n",
              "       [85.05083476, 95.73699695,  1.        ],\n",
              "       [46.77725045, 90.20220624,  1.        ],\n",
              "       [49.75843417, 52.83449436,  1.        ],\n",
              "       [24.1192565 , 42.10281078,  1.        ],\n",
              "       [27.20157645, 29.97874929,  1.        ],\n",
              "       [ 7.00959617, 55.87605839,  1.        ],\n",
              "       [97.64694967,  8.14762513,  1.        ],\n",
              "       [ 1.38298251, 84.94408692,  1.        ],\n",
              "       [22.32353035, 27.51507504,  1.        ],\n",
              "       [45.04540623, 93.52040222,  1.        ],\n",
              "       [40.16399147,  0.16169923,  1.        ],\n",
              "       [53.18273979,  8.17031616,  1.        ],\n",
              "       [46.45677916, 82.00017091,  1.        ],\n",
              "       [77.13030069, 95.18875945,  1.        ],\n",
              "       [68.60060757, 72.57118072,  1.        ],\n",
              "       [41.69388712, 69.24112597,  1.        ],\n",
              "       [ 4.1426694 , 52.25472638,  1.        ]])"
            ]
          },
          "metadata": {
            "tags": []
          },
          "execution_count": 38
        }
      ]
    },
    {
      "cell_type": "code",
      "metadata": {
        "id": "CFJ5PvWny6j8",
        "colab": {
          "base_uri": "https://localhost:8080/",
          "height": 248
        },
        "outputId": "cf250b60-b582-4b6f-cfd2-16f838753057"
      },
      "source": [
        "# Plotting Dataset\n",
        "fig=plt.figure()\n",
        "ax=fig.add_subplot(111,projection='3d')\n",
        "ax.scatter(X[:,0],X[:,1],Y)\n",
        "plt.show()"
      ],
      "execution_count": 39,
      "outputs": [
        {
          "output_type": "display_data",
          "data": {
            "image/png": "[encoded data removed]",
            "text/plain": [
              "<Figure size 432x288 with 1 Axes>"
            ]
          },
          "metadata": {
            "tags": [],
            "needs_background": "light"
          }
        }
      ]
    },
    {
      "cell_type": "code",
      "metadata": {
        "id": "bz1oAcXT0E_s"
      },
      "source": [
        "# Applying the equations learned till now:\n",
        "w = np.linalg.solve(np.dot(X.T, X), np.dot(X.T, Y))\n",
        "Yhat = np.dot(X, w)"
      ],
      "execution_count": 41,
      "outputs": []
    },
    {
      "cell_type": "code",
      "metadata": {
        "id": "w2mstit_0K48"
      },
      "source": [
        "# How good our model is ? R-squared error"
      ],
      "execution_count": null,
      "outputs": []
    },
    {
      "cell_type": "code",
      "metadata": {
        "id": "t_Qy6fRSXF4g",
        "colab": {
          "base_uri": "https://localhost:8080/"
        },
        "outputId": "3603e582-759a-481b-a52b-0c3e286e38e3"
      },
      "source": [
        "d1 = Y - Yhat\n",
        "d2 = Y - Y.mean()\n",
        "r2 = 1 - d1.dot(d1) / d2.dot(d2)\n",
        "print(\"the r-squared is:\", r2)"
      ],
      "execution_count": 42,
      "outputs": [
        {
          "output_type": "stream",
          "text": [
            "the r-squared is: 0.9980040612475778\n"
          ],
          "name": "stdout"
        }
      ]
    },
    {
      "cell_type": "markdown",
      "metadata": {
        "id": "d7kKN82H-YKU"
      },
      "source": [
        "Testing"
      ]
    },
    {
      "cell_type": "code",
      "metadata": {
        "id": "0TuHACLK1zyd"
      },
      "source": [
        "X.shape"
      ],
      "execution_count": null,
      "outputs": []
    },
    {
      "cell_type": "code",
      "metadata": {
        "id": "UZu6xA3S949c"
      },
      "source": [
        "X_test= np.array([31,54,1])"
      ],
      "execution_count": 43,
      "outputs": []
    },
    {
      "cell_type": "code",
      "metadata": {
        "colab": {
          "base_uri": "https://localhost:8080/"
        },
        "id": "1tY-SC_P-IW7",
        "outputId": "92a1e5ae-e978-41a5-d8eb-2a2c846122fc"
      },
      "source": [
        "X_test.shape"
      ],
      "execution_count": 44,
      "outputs": [
        {
          "output_type": "execute_result",
          "data": {
            "text/plain": [
              "(3,)"
            ]
          },
          "metadata": {
            "tags": []
          },
          "execution_count": 44
        }
      ]
    },
    {
      "cell_type": "code",
      "metadata": {
        "id": "IjrM713b-KBT"
      },
      "source": [
        "X_test=X_test.reshape(-1,3)"
      ],
      "execution_count": 46,
      "outputs": []
    },
    {
      "cell_type": "code",
      "metadata": {
        "colab": {
          "base_uri": "https://localhost:8080/"
        },
        "id": "Yezn2V7j-M30",
        "outputId": "1b621739-6930-43fb-b39f-f79be5b9e6c6"
      },
      "source": [
        "X_test"
      ],
      "execution_count": 47,
      "outputs": [
        {
          "output_type": "execute_result",
          "data": {
            "text/plain": [
              "array([[31, 54,  1]])"
            ]
          },
          "metadata": {
            "tags": []
          },
          "execution_count": 47
        }
      ]
    },
    {
      "cell_type": "code",
      "metadata": {
        "colab": {
          "base_uri": "https://localhost:8080/"
        },
        "id": "ihkgrahp-QjT",
        "outputId": "17ff8efc-9b81-434d-addd-57af3e1592e4"
      },
      "source": [
        "print(np.dot(X_test,w))"
      ],
      "execution_count": 48,
      "outputs": [
        {
          "output_type": "stream",
          "text": [
            "[224.35054446]\n"
          ],
          "name": "stdout"
        }
      ]
    },
    {
      "cell_type": "markdown",
      "metadata": {
        "id": "5QJvB6KvATm9"
      },
      "source": [
        "Using Scikit-learn"
      ]
    },
    {
      "cell_type": "code",
      "metadata": {
        "id": "aBkmrMOh-f2b"
      },
      "source": [
        "import pandas as pd\n",
        "import numpy as np\n",
        "from sklearn.linear_model import LinearRegression"
      ],
      "execution_count": 49,
      "outputs": []
    },
    {
      "cell_type": "code",
      "metadata": {
        "colab": {
          "base_uri": "https://localhost:8080/"
        },
        "id": "z0ggcqCbAjCk",
        "outputId": "5a46aeac-e196-4a77-ffb7-085ce6faff5c"
      },
      "source": [
        "!wget \"https://raw.githubusercontent.com/FutrCamp/Machine-Learning/main/Supervised%20Machine%20Learning/Datasets/data_2d.csv\""
      ],
      "execution_count": 50,
      "outputs": [
        {
          "output_type": "stream",
          "text": [
            "--2021-04-18 16:07:08--  https://raw.githubusercontent.com/FutrCamp/Machine-Learning/main/Supervised%20Machine%20Learning/Datasets/data_2d.csv\n",
            "Resolving raw.githubusercontent.com (raw.githubusercontent.com)... 185.199.108.133, 185.199.109.133, 185.199.110.133, ...\n",
            "Connecting to raw.githubusercontent.com (raw.githubusercontent.com)|185.199.108.133|:443... connected.\n",
            "HTTP request sent, awaiting response... 200 OK\n",
            "Length: 4264 (4.2K) [text/plain]\n",
            "Saving to: ‘data_2d.csv.3’\n",
            "\n",
            "\rdata_2d.csv.3         0%[                    ]       0  --.-KB/s               \rdata_2d.csv.3       100%[===================>]   4.16K  --.-KB/s    in 0s      \n",
            "\n",
            "2021-04-18 16:07:08 (41.2 MB/s) - ‘data_2d.csv.3’ saved [4264/4264]\n",
            "\n"
          ],
          "name": "stdout"
        }
      ]
    },
    {
      "cell_type": "code",
      "metadata": {
        "id": "CHX0RvbWA080"
      },
      "source": [
        "X= []\n",
        "Y= []"
      ],
      "execution_count": 51,
      "outputs": []
    },
    {
      "cell_type": "code",
      "metadata": {
        "id": "r-Jh9EitA1gm"
      },
      "source": [
        "for line in open('/content/data_2d.csv'):\n",
        "  x1,x2,y = line.split(',')\n",
        "  X.append([float(x1),float(x2),1])\n",
        "  Y.append(float(y))"
      ],
      "execution_count": 52,
      "outputs": []
    },
    {
      "cell_type": "code",
      "metadata": {
        "id": "rGSdnT94A4Zk"
      },
      "source": [
        "# turning X & Y into numpy arrays\n",
        "X=np.array(X)\n",
        "Y=np.array(Y)"
      ],
      "execution_count": 53,
      "outputs": []
    },
    {
      "cell_type": "code",
      "metadata": {
        "id": "LvWT75U3A410"
      },
      "source": [
        "lr = LinearRegression()"
      ],
      "execution_count": 54,
      "outputs": []
    },
    {
      "cell_type": "code",
      "metadata": {
        "colab": {
          "base_uri": "https://localhost:8080/"
        },
        "id": "NZZejUAhA-J8",
        "outputId": "faabb84e-88b9-4ea3-cb89-95fb81f77cb2"
      },
      "source": [
        "lr.fit(X,Y)"
      ],
      "execution_count": 55,
      "outputs": [
        {
          "output_type": "execute_result",
          "data": {
            "text/plain": [
              "LinearRegression(copy_X=True, fit_intercept=True, n_jobs=None, normalize=False)"
            ]
          },
          "metadata": {
            "tags": []
          },
          "execution_count": 55
        }
      ]
    },
    {
      "cell_type": "code",
      "metadata": {
        "id": "Kdlk3UeJBCyL"
      },
      "source": [
        "y_predict = lr.predict(X)"
      ],
      "execution_count": 56,
      "outputs": []
    },
    {
      "cell_type": "code",
      "metadata": {
        "colab": {
          "base_uri": "https://localhost:8080/"
        },
        "id": "ISysf9qBBL9r",
        "outputId": "b6ed8cd4-7f35-4e55-9e0b-581732099f77"
      },
      "source": [
        "y_predict"
      ],
      "execution_count": 57,
      "outputs": [
        {
          "output_type": "execute_result",
          "data": {
            "text/plain": [
              "array([318.33319994, 404.05215029, 183.41670624, 322.95898681,\n",
              "       324.09531924,  94.78736642, 356.51965828, 184.7045282 ,\n",
              "       421.36398156, 372.89003776, 420.82132299, 287.00310339,\n",
              "       393.30167652, 318.52865492, 281.37741721, 300.6282601 ,\n",
              "       158.96651471, 445.43185204, 257.33599551, 231.80365075,\n",
              "       168.58895059,  81.20417699, 461.85259581, 105.07526001,\n",
              "       360.80736319, 429.8853733 , 232.13208452, 284.79001674,\n",
              "       298.13156645, 309.48629992, 123.46344238, 221.75658332,\n",
              "       238.44429142, 142.26360319, 390.40465353, 334.24931407,\n",
              "       456.16846134, 378.35816861, 235.89502471, 184.96238198,\n",
              "       123.66690112, 191.38916206, 231.03388931, 379.98661023,\n",
              "       294.56444183, 306.79852917, 204.77159138, 180.59515878,\n",
              "       237.27565987, 350.23799634, 350.0323209 , 373.37619418,\n",
              "       243.50109295, 299.81730508, 148.33618997, 138.62127559,\n",
              "       312.35210278, 257.32788644, 336.35485783,  69.97000997,\n",
              "       387.20838056, 300.10329215, 153.14495986, 391.94644473,\n",
              "       310.4312953 , 377.234186  , 272.22089808, 191.67975206,\n",
              "        65.48054954, 386.73683185,  83.56461494, 178.76985795,\n",
              "       222.41697948, 223.31432961, 296.49424932, 207.77139218,\n",
              "        49.1324762 , 249.60631639, 161.69247789, 454.60888845,\n",
              "       232.11026669, 138.50660579, 288.12055021, 457.30577028,\n",
              "       363.68315923, 258.71869966, 175.14149653, 145.35086246,\n",
              "       181.54147926, 222.58061305, 256.5221665 , 128.19671915,\n",
              "       370.04515048,  82.93956864, 132.97845578, 338.67805647,\n",
              "       439.70449982, 355.33211409, 291.18042904, 165.00502535])"
            ]
          },
          "metadata": {
            "tags": []
          },
          "execution_count": 57
        }
      ]
    },
    {
      "cell_type": "code",
      "metadata": {
        "id": "eXxboPw8BOZ8"
      },
      "source": [
        ""
      ],
      "execution_count": null,
      "outputs": []
    }
  ]
}