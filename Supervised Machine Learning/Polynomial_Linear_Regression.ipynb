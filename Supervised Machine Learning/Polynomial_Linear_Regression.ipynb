{
  "nbformat": 4,
  "nbformat_minor": 0,
  "metadata": {
    "colab": {
      "name": "Polynomial Linear Regression.ipynb",
      "provenance": [],
      "collapsed_sections": []
    },
    "kernelspec": {
      "name": "python3",
      "display_name": "Python 3"
    },
    "language_info": {
      "name": "python"
    }
  },
  "cells": [
    {
      "cell_type": "markdown",
      "metadata": {
        "id": "y6XQ9oqMBsce"
      },
      "source": [
        "Imports"
      ]
    },
    {
      "cell_type": "code",
      "metadata": {
        "id": "yP0csUyGBa6M"
      },
      "source": [
        "import numpy as np\n",
        "import pandas as pd\n",
        "import matplotlib.pyplot as plt"
      ],
      "execution_count": 1,
      "outputs": []
    },
    {
      "cell_type": "markdown",
      "metadata": {
        "id": "1biu5M-cB5LE"
      },
      "source": [
        "Loading/ Gathering Data"
      ]
    },
    {
      "cell_type": "code",
      "metadata": {
        "colab": {
          "base_uri": "https://localhost:8080/"
        },
        "id": "6brHjryTCH5s",
        "outputId": "2d06bf41-b0fa-4c14-87bf-6ff3875cea36"
      },
      "source": [
        "!wget https://raw.githubusercontent.com/FutrCamp/Machine-Learning/main/Supervised%20Machine%20Learning/Datasets/data_poly.csv"
      ],
      "execution_count": 2,
      "outputs": [
        {
          "output_type": "stream",
          "text": [
            "--2021-04-18 16:10:10--  https://raw.githubusercontent.com/FutrCamp/Machine-Learning/main/Supervised%20Machine%20Learning/Datasets/data_poly.csv\n",
            "Resolving raw.githubusercontent.com (raw.githubusercontent.com)... 185.199.108.133, 185.199.109.133, 185.199.110.133, ...\n",
            "Connecting to raw.githubusercontent.com (raw.githubusercontent.com)|185.199.108.133|:443... connected.\n",
            "HTTP request sent, awaiting response... 200 OK\n",
            "Length: 2878 (2.8K) [text/plain]\n",
            "Saving to: ‘data_poly.csv’\n",
            "\n",
            "\rdata_poly.csv         0%[                    ]       0  --.-KB/s               \rdata_poly.csv       100%[===================>]   2.81K  --.-KB/s    in 0s      \n",
            "\n",
            "2021-04-18 16:10:10 (41.7 MB/s) - ‘data_poly.csv’ saved [2878/2878]\n",
            "\n"
          ],
          "name": "stdout"
        }
      ]
    },
    {
      "cell_type": "code",
      "metadata": {
        "id": "3ed9_TVxB4Pd"
      },
      "source": [
        "X=[]\n",
        "Y=[]\n",
        "for line in open('data_poly.csv'):\n",
        "  x,y = line.split(',')\n",
        "  x=float(x)\n",
        "  X.append([1,x,x*x])\n",
        "  Y.append(float(y))"
      ],
      "execution_count": 3,
      "outputs": []
    },
    {
      "cell_type": "markdown",
      "metadata": {
        "id": "pU65z557DAj8"
      },
      "source": [
        "Converting to numpy arrays"
      ]
    },
    {
      "cell_type": "code",
      "metadata": {
        "id": "8QMEYD_xCgzL"
      },
      "source": [
        "X = np.array(X)\n",
        "Y=np.array(Y)"
      ],
      "execution_count": 4,
      "outputs": []
    },
    {
      "cell_type": "markdown",
      "metadata": {
        "id": "co7YSg_aDKmU"
      },
      "source": [
        "Plotting"
      ]
    },
    {
      "cell_type": "code",
      "metadata": {
        "colab": {
          "base_uri": "https://localhost:8080/",
          "height": 265
        },
        "id": "ZmpoVU8ECjPc",
        "outputId": "de3f6e35-182b-4c42-8557-732dee5fb7d6"
      },
      "source": [
        "plt.scatter(X[:,1], Y)\n",
        "plt.show()"
      ],
      "execution_count": 5,
      "outputs": [
        {
          "output_type": "display_data",
          "data": {
            "image/png": "[encoded data removed]",
            "text/plain": [
              "<Figure size 432x288 with 1 Axes>"
            ]
          },
          "metadata": {
            "tags": [],
            "needs_background": "light"
          }
        }
      ]
    },
    {
      "cell_type": "markdown",
      "metadata": {
        "id": "PffV9MC_DT00"
      },
      "source": [
        "Weights calculation"
      ]
    },
    {
      "cell_type": "code",
      "metadata": {
        "id": "wPFFMuAADQic"
      },
      "source": [
        "# Applying the equations learned till now:\n",
        "w = np.linalg.solve(np.dot(X.T, X), np.dot(X.T, Y))\n",
        "Yhat = np.dot(X, w)"
      ],
      "execution_count": 6,
      "outputs": []
    },
    {
      "cell_type": "markdown",
      "metadata": {
        "id": "-UjiLVPYDcTE"
      },
      "source": [
        "How good our model is ? R-squared error"
      ]
    },
    {
      "cell_type": "code",
      "metadata": {
        "colab": {
          "base_uri": "https://localhost:8080/"
        },
        "id": "DH0BD_8PDdtN",
        "outputId": "4715a44e-093a-486c-a45a-d3da683f0128"
      },
      "source": [
        "d1 = Y - Yhat\n",
        "d2 = Y - Y.mean()\n",
        "r2 = 1 - d1.dot(d1) / d2.dot(d2)\n",
        "print(\"the r-squared is:\", r2)"
      ],
      "execution_count": 7,
      "outputs": [
        {
          "output_type": "stream",
          "text": [
            "the r-squared is: 0.9991412296366858\n"
          ],
          "name": "stdout"
        }
      ]
    },
    {
      "cell_type": "code",
      "metadata": {
        "id": "e_095A8KglR6"
      },
      "source": [
        ""
      ],
      "execution_count": null,
      "outputs": []
    }
  ]
}